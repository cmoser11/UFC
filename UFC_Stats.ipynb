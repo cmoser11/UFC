{
 "cells": [
  {
   "cell_type": "code",
   "execution_count": 11,
   "id": "df1b1632-3a32-4f1d-a785-8fe26563dd0c",
   "metadata": {},
   "outputs": [],
   "source": [
    "import pandas as pd\n",
    "import matplotlib.pyplot as plt\n",
    "import seaborn as sns\n",
    "import openpyxl\n",
    "import statsmodels.api as sm\n",
    "from sklearn.model_selection import train_test_split\n",
    "from sklearn.ensemble import RandomForestRegressor\n",
    "from sklearn.metrics import mean_squared_error, r2_score\n",
    "from sklearn.linear_model import LogisticRegression\n",
    "\n",
    "from sklearn.ensemble import RandomForestClassifier\n",
    "\n",
    "from sklearn.metrics import accuracy_score, roc_auc_score, confusion_matrix\n",
    "\n",
    "import math\n",
    "\n"
   ]
  },
  {
   "cell_type": "markdown",
   "id": "214338fb-a905-47e4-b20d-118111a73da3",
   "metadata": {},
   "source": [
    "# Background\n",
    "\n",
    "# Note to self, rewrite this as prose:\n",
    "\n",
    "- Initial intituation on fighting weight cuts\n",
    "- Fighters have cut drastic amounts of weight to get advantadge through rehydraiton. By cutting water weight before a fight, fighters can weigh in at their desired weight class then regain that weight before their fight through rapid rehydtation. Fighters have been known to regain up to 20 lbs between weigh in and fight night, with the highest ever gain from Geoff Neal, who gained 30.3 pounds at UFC 298 (https://www.espn.com/mma/story/_/id/39610394/seven-ufc-298-fighters-flagged-rehydration-issue)\n",
    "- Huge advandtadge to cutting weight: you have a massive size advantadge on fight night compared to your opponent.\n",
    "- However, weight cutting turns the sport of fighting into a weight regain contest. Organizations like One Championship have tried to combat this by measuring hydration levels, but in the UFC, there are no such measures.\n",
    "- How much of an impact does weight cutting have on winning fights?\n",
    "- Implications of the sport: weight cutting gives adantadge to fighters who may be less skilled but their bodies are naturally adapted to rapidly losing and gaining water weight\n",
    "- Also a safety issue: fighters have died trying to cut too much water weight.\n",
    "- Point of this study is to see the extent to which regaining water weight affects the odds of a fighter winning."
   ]
  },
  {
   "cell_type": "markdown",
   "id": "ffa932ea-43a4-4f4f-ad16-b3e840ad4ff6",
   "metadata": {},
   "source": [
    "# Explanation of the Data and the Data Sources"
   ]
  },
  {
   "cell_type": "markdown",
   "id": "a49b0a50-bfbc-45e6-b8ba-edd4470125e2",
   "metadata": {},
   "source": [
    "# Hypothesis"
   ]
  },
  {
   "cell_type": "code",
   "execution_count": 2,
   "id": "cae08549-342b-4be2-afd2-6bab04969eee",
   "metadata": {},
   "outputs": [],
   "source": [
    "stats_path = '/Users/caseymoser/Desktop/UFC Analysis/UFC/ufc_fight_stats.csv'\n",
    "\n",
    "# data source: https://www.reddit.com/r/MMA/comments/evbnjd/released_offical_ufc_fight_night_weights/\n",
    "weight_path = '/Users/caseymoser/Desktop/UFC Analysis/UFC/UFC Fight Night Weights.xlsx'\n",
    "\n",
    "results_path = '/Users/caseymoser/Desktop/UFC Analysis/UFC/ufc_fight_results.csv'\n",
    "\n",
    "stats_df = pd.read_csv(stats_path)\n",
    "\n",
    "weight_df = pd.read_excel(weight_path)\n",
    "\n",
    "results_df = pd.read_csv(results_path)\n"
   ]
  },
  {
   "cell_type": "code",
   "execution_count": 3,
   "id": "5136b1dc-a0d3-40d4-806e-fb6ea652e825",
   "metadata": {},
   "outputs": [],
   "source": [
    "# Step 1: Split fighters into separate columns\n",
    "results_df[['Fighter_1', 'Fighter_2']] = results_df['BOUT'].str.split(' vs. ', expand=True)\n",
    "\n",
    "fighter1_df = results_df.copy()\n",
    "fighter1_df['FIGHTER'] = fighter1_df['Fighter_1']\n",
    "fighter1_df['RESULT'] = fighter1_df['OUTCOME'].str[0].map({'W': 'Win', 'L': 'Loss'})\n",
    "fighter1_df = fighter1_df.drop(columns=['Fighter_1','Fighter_2'])\n",
    "\n",
    "\n",
    "fighter2_df = results_df.copy()\n",
    "fighter2_df['FIGHTER'] = fighter2_df['Fighter_2']\n",
    "fighter2_df['RESULT'] = fighter2_df['OUTCOME'].str[2].map({'W': 'Win', 'L': 'Loss'})\n",
    "fighter2_df = fighter2_df.drop(columns=['Fighter_1','Fighter_2'])\n",
    "\n",
    "\n",
    "# Note to self, clean this code so that I first drop fighter_1 and fighter_2, then combine the data sets together/\n",
    "\n",
    "# Combine both into a single dataframe\n",
    "results_df_clean = pd.concat([fighter1_df, fighter2_df])\n",
    "\n",
    "results_df_clean['UFC_EVENT'] = results_df_clean['EVENT'].str.extract(r'(UFC \\d+)', expand=False)\n",
    "\n",
    "\n",
    "\n"
   ]
  },
  {
   "cell_type": "code",
   "execution_count": 4,
   "id": "3007012c-5819-49a6-a643-e7f0d959b9c4",
   "metadata": {},
   "outputs": [],
   "source": [
    "weight_df['UFC_EVENT'] = weight_df['EVENT'].str.extract(r'(UFC \\d+)', expand=False)\n",
    "weight_df\n",
    "\n",
    "weight_df['FIGHTER'] = weight_df['FIGHTER'].str.strip().str.lower()\n",
    "weight_df['UFC_EVENT'] = weight_df['UFC_EVENT'].str.strip().str.upper()\n",
    "\n",
    "results_df_clean['FIGHTER'] = results_df_clean['FIGHTER'].str.strip().str.lower()\n",
    "results_df_clean['UFC_EVENT'] = results_df_clean['UFC_EVENT'].str.strip().str.upper()\n",
    "\n",
    "merged_weight = pd.merge(\n",
    "    results_df_clean,\n",
    "    weight_df,\n",
    "    on=['FIGHTER', 'UFC_EVENT'],\n",
    "    how='left', \n",
    "    suffixes=('_result', '_weight')\n",
    ")\n",
    "results_df_clean\n",
    "\n",
    "# Drop rows with any NaN values\n",
    "merged_weight_clean = merged_weight.dropna(subset=['WEIGH IN WEIGHT (lbs)'])\n",
    "\n"
   ]
  },
  {
   "cell_type": "code",
   "execution_count": 5,
   "id": "a4b7b4ab-1cce-412f-9bb2-b5b212209392",
   "metadata": {},
   "outputs": [
    {
     "name": "stderr",
     "output_type": "stream",
     "text": [
      "/var/folders/rc/yw7v7vhj4l3_vjznh0cwm8wr0000gn/T/ipykernel_2643/41271526.py:5: SettingWithCopyWarning: \n",
      "A value is trying to be set on a copy of a slice from a DataFrame.\n",
      "Try using .loc[row_indexer,col_indexer] = value instead\n",
      "\n",
      "See the caveats in the documentation: https://pandas.pydata.org/pandas-docs/stable/user_guide/indexing.html#returning-a-view-versus-a-copy\n",
      "  win_weight_df['RESULT'] = win_weight_df['RESULT'].map({'Win': 1, 'Loss': 0})\n",
      "/var/folders/rc/yw7v7vhj4l3_vjznh0cwm8wr0000gn/T/ipykernel_2643/41271526.py:11: SettingWithCopyWarning: \n",
      "A value is trying to be set on a copy of a slice from a DataFrame.\n",
      "Try using .loc[row_indexer,col_indexer] = value instead\n",
      "\n",
      "See the caveats in the documentation: https://pandas.pydata.org/pandas-docs/stable/user_guide/indexing.html#returning-a-view-versus-a-copy\n",
      "  win_weight_df_clean['PERCENT_REGAIN'] =win_weight_df_clean['WEIGHT INCREASE (lbs)']/win_weight_df_clean['WEIGH IN WEIGHT (lbs)']*100\n"
     ]
    }
   ],
   "source": [
    "#df.groupby('FIGHTER')['SIG.STR. %'].mean()\n",
    "\n",
    "win_weight_df = merged_weight_clean\n",
    "\n",
    "win_weight_df['RESULT'] = win_weight_df['RESULT'].map({'Win': 1, 'Loss': 0})\n",
    "\n",
    "\n",
    "win_weight_df_clean = win_weight_df.dropna(subset=['RESULT', 'WEIGHT INCREASE (lbs)'])\n",
    "\n",
    "# calculating percent regain (heavyweights more likely to just have higher raw numbers because they have more fat than lower weight classes)\n",
    "win_weight_df_clean['PERCENT_REGAIN'] =win_weight_df_clean['WEIGHT INCREASE (lbs)']/win_weight_df_clean['WEIGH IN WEIGHT (lbs)']*100\n"
   ]
  },
  {
   "cell_type": "markdown",
   "id": "f9b90777-df33-4aa8-b4d3-ef91add15453",
   "metadata": {},
   "source": [
    "### Choice of Regression\n",
    "\n",
    "Given that the dependent variable is binary (win or loss), I have chosen to fit a logistic model to predict the log-odds of winning fights based on percentage weight regained."
   ]
  },
  {
   "cell_type": "code",
   "execution_count": 12,
   "id": "4d59b0fc-c72e-4c16-9e0d-2c41e59e197e",
   "metadata": {},
   "outputs": [
    {
     "name": "stdout",
     "output_type": "stream",
     "text": [
      "Optimization terminated successfully.\n",
      "         Current function value: 0.684487\n",
      "         Iterations 4\n",
      "                           Logit Regression Results                           \n",
      "==============================================================================\n",
      "Dep. Variable:                 RESULT   No. Observations:                  437\n",
      "Model:                          Logit   Df Residuals:                      435\n",
      "Method:                           MLE   Df Model:                            1\n",
      "Date:                Tue, 29 Jul 2025   Pseudo R-squ.:                0.004868\n",
      "Time:                        12:29:07   Log-Likelihood:                -299.12\n",
      "converged:                       True   LL-Null:                       -300.58\n",
      "Covariance Type:            nonrobust   LLR p-value:                   0.08714\n",
      "==================================================================================\n",
      "                     coef    std err          z      P>|z|      [0.025      0.975]\n",
      "----------------------------------------------------------------------------------\n",
      "const             -0.2334      0.275     -0.849      0.396      -0.772       0.306\n",
      "PERCENT_REGAIN     0.0432      0.025      1.704      0.088      -0.006       0.093\n",
      "==================================================================================\n"
     ]
    },
    {
     "data": {
      "text/plain": [
       "1.0441467033097327"
      ]
     },
     "execution_count": 12,
     "metadata": {},
     "output_type": "execute_result"
    }
   ],
   "source": [
    "#Logit Model\n",
    "\n",
    "X = win_weight_df_clean[['PERCENT_REGAIN']]\n",
    "\n",
    "\n",
    "y = win_weight_df_clean['RESULT']\n",
    "\n",
    "# Add a constant (intercept) to the independent variable\n",
    "X = sm.add_constant(X)\n",
    "\n",
    "# Fit the OLS model\n",
    "model = sm.Logit(y, X)\n",
    "result = model.fit()\n",
    "print(result.summary())\n",
    "\n",
    "\n",
    "math.exp(0.0432)"
   ]
  },
  {
   "cell_type": "markdown",
   "id": "159e21d1-e5b3-41d8-b28b-93a54ed5e37c",
   "metadata": {},
   "source": [
    "\n",
    "In this first log-odds model, the coefficient on PERCENT_REGAIN is 0.0432, meaning every 1 percent increase in weight is linked to a 1.044 change in odds of winning. In other words, a 1% increase in weight regained following fight-weigh in is is linked to a 4.4% increase in odds of winning a fight.\n",
    "\n",
    "This model is not statistically significant at alpha = 0.05, but it is significant at alpha =0.10.  This means that PERCENT_REGAIN has a statistically signficant impact on winning at a 90% condifidence interval. However, given that the R$^{2}$ value is only 0.007, less than 1% of the variation in fight outcome is explained by percentage weight regain. In this way, this model has insufficient predictive power to be useful for fight prediction.\n"
   ]
  },
  {
   "cell_type": "code",
   "execution_count": 13,
   "id": "9a4ad144-5f5a-4006-a4b6-af301a30b1bf",
   "metadata": {},
   "outputs": [
    {
     "name": "stdout",
     "output_type": "stream",
     "text": [
      "Logistic Accuracy: 0.5568181818181818\n",
      "Logistic AUC: 0.4728947368421053\n",
      "\n",
      "RF Accuracy: 0.5227272727272727\n",
      "RF AUC: 0.4723684210526315\n"
     ]
    }
   ],
   "source": [
    "# testing for causality on randomzied data in logistic model\n",
    "\n",
    "from sklearn.model_selection import train_test_split\n",
    "\n",
    "X = win_weight_df_clean[['PERCENT_REGAIN']]\n",
    "\n",
    "y = win_weight_df_clean['RESULT']\n",
    "\n",
    "X_train, X_test, y_train, y_test = train_test_split(X, y, test_size=0.2, random_state=42)\n",
    "\n",
    "### Logistic Regression\n",
    "log_model = LogisticRegression()\n",
    "log_model.fit(X_train, y_train)\n",
    "y_pred_log = log_model.predict(X_test)\n",
    "\n",
    "print(\"Logistic Accuracy:\", accuracy_score(y_test, y_pred_log))\n",
    "print(\"Logistic AUC:\", roc_auc_score(y_test, log_model.predict_proba(X_test)[:, 1]))\n",
    "\n",
    "### Random Forest Classifier\n",
    "rf_model = RandomForestClassifier(n_estimators=100, random_state=42)\n",
    "rf_model.fit(X_train, y_train)\n",
    "y_pred_rf = rf_model.predict(X_test)\n",
    "\n",
    "print(\"\\nRF Accuracy:\", accuracy_score(y_test, y_pred_rf))\n",
    "print(\"RF AUC:\", roc_auc_score(y_test, rf_model.predict_proba(X_test)[:, 1]))"
   ]
  },
  {
   "cell_type": "markdown",
   "id": "4d4ef84d-59f1-4c79-9320-49c957805b9e",
   "metadata": {},
   "source": [
    "In the logistic regression, the performance of the model further confirms that weight regain alone is insufficient to predict fight outcome. Since the AUC values is less than 0.5, the model is worse than random guessing at predicting fight outcomes. In this way, the amount of weight regained by a fighter does not have sufficient predictive power."
   ]
  },
  {
   "cell_type": "code",
   "execution_count": null,
   "id": "675fc7c6-c7e1-4d91-8e58-6d768fbc9ec8",
   "metadata": {},
   "outputs": [],
   "source": []
  },
  {
   "cell_type": "code",
   "execution_count": 15,
   "id": "8eef28b7-2368-4e43-bc7f-ef12769314a0",
   "metadata": {},
   "outputs": [
    {
     "name": "stdout",
     "output_type": "stream",
     "text": [
      "Optimization terminated successfully.\n",
      "         Current function value: 0.683942\n",
      "         Iterations 4\n",
      "                           Logit Regression Results                           \n",
      "==============================================================================\n",
      "Dep. Variable:                 RESULT   No. Observations:                  437\n",
      "Model:                          Logit   Df Residuals:                      434\n",
      "Method:                           MLE   Df Model:                            2\n",
      "Date:                Tue, 29 Jul 2025   Pseudo R-squ.:                0.005661\n",
      "Time:                        12:31:57   Log-Likelihood:                -298.88\n",
      "converged:                       True   LL-Null:                       -300.58\n",
      "Covariance Type:            nonrobust   LLR p-value:                    0.1824\n",
      "=====================================================================================\n",
      "                        coef    std err          z      P>|z|      [0.025      0.975]\n",
      "-------------------------------------------------------------------------------------\n",
      "const                -0.5447      0.533     -1.022      0.307      -1.589       0.500\n",
      "PERCENT_REGAIN        0.1169      0.110      1.058      0.290      -0.100       0.333\n",
      "PERCENT_REGAIN_SQ    -0.0037      0.005     -0.687      0.492      -0.014       0.007\n",
      "=====================================================================================\n"
     ]
    },
    {
     "name": "stderr",
     "output_type": "stream",
     "text": [
      "/var/folders/rc/yw7v7vhj4l3_vjznh0cwm8wr0000gn/T/ipykernel_2643/4279618373.py:3: SettingWithCopyWarning: \n",
      "A value is trying to be set on a copy of a slice from a DataFrame.\n",
      "Try using .loc[row_indexer,col_indexer] = value instead\n",
      "\n",
      "See the caveats in the documentation: https://pandas.pydata.org/pandas-docs/stable/user_guide/indexing.html#returning-a-view-versus-a-copy\n",
      "  win_weight_df_clean['PERCENT_REGAIN_SQ'] = win_weight_df_clean['PERCENT_REGAIN'] ** 2\n"
     ]
    }
   ],
   "source": [
    "# Model with squared term\n",
    "\n",
    "win_weight_df_clean['PERCENT_REGAIN_SQ'] = win_weight_df_clean['PERCENT_REGAIN'] ** 2\n",
    "\n",
    "\n",
    "X = win_weight_df_clean[['PERCENT_REGAIN', 'PERCENT_REGAIN_SQ']]\n",
    "X = sm.add_constant(X)\n",
    "\n",
    "y = win_weight_df_clean['RESULT']\n",
    "\n",
    "\n",
    "# Fit logistic regression\n",
    "logit_model = sm.Logit(y, X)\n",
    "results = logit_model.fit()\n",
    "\n",
    "# Print summary\n",
    "print(results.summary())\n"
   ]
  },
  {
   "cell_type": "code",
   "execution_count": null,
   "id": "316bb82b-373d-4dc2-92d5-c4a50e39f310",
   "metadata": {},
   "outputs": [],
   "source": []
  },
  {
   "cell_type": "markdown",
   "id": "70b0f565-bb64-411a-b9df-f465c6b7c04f",
   "metadata": {},
   "source": [
    "In this third logistics model, the coefficients on PERCENT_REGAIN and PERCENT_REGAIN_SQ are both statsitically insignificant at a 95% and 90% confidence interval, implying that we fail to reject the null hypothesis that regaining weight has a downside at higher levels (in other words, the square term is used to see if there is a fall off in the benefit of regaining weight at higher percentage regains due to dehydration issues).\n",
    "\n",
    "Again, "
   ]
  },
  {
   "cell_type": "markdown",
   "id": "b4174a57-794b-4975-8cbe-ea6814fcc456",
   "metadata": {},
   "source": [
    "### Limitation to Analysis of Weight Regain Models\n",
    "\n",
    "The biggest limitation to this analysis is the data set. Not all regions require fighters to publicize their fight night weight, meaning a lot of weight regains are not capture in my analysis. Having more post fight weigh in data could let us more accurately assess if there is a limitation to the benefit of cutting and regaining weight."
   ]
  },
  {
   "cell_type": "code",
   "execution_count": null,
   "id": "07efe1fc-d772-458b-b16b-4eece95c1fa5",
   "metadata": {},
   "outputs": [],
   "source": []
  },
  {
   "cell_type": "code",
   "execution_count": null,
   "id": "8df71af7-d9b8-488a-b868-77df67a97f5d",
   "metadata": {},
   "outputs": [],
   "source": []
  }
 ],
 "metadata": {
  "kernelspec": {
   "display_name": "Python 3 (ipykernel)",
   "language": "python",
   "name": "python3"
  },
  "language_info": {
   "codemirror_mode": {
    "name": "ipython",
    "version": 3
   },
   "file_extension": ".py",
   "mimetype": "text/x-python",
   "name": "python",
   "nbconvert_exporter": "python",
   "pygments_lexer": "ipython3",
   "version": "3.10.18"
  }
 },
 "nbformat": 4,
 "nbformat_minor": 5
}
