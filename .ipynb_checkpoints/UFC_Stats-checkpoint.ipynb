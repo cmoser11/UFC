{
 "cells": [
  {
   "cell_type": "code",
   "execution_count": 1,
   "id": "56d06477-4d4f-4fc9-94be-279106c0c0fd",
   "metadata": {},
   "outputs": [],
   "source": [
    "import pandas as pd\n",
    "import matplotlib as plt\n",
    "import seaborn as sns\n",
    "import openpyxl\n",
    "import statsmodels.api as sm\n",
    "\n",
    "\n"
   ]
  },
  {
   "cell_type": "code",
   "execution_count": 2,
   "id": "b7731bf7-4732-4d6d-82c0-05b83d3935a1",
   "metadata": {},
   "outputs": [],
   "source": [
    "# get the old data sets back that I accidentally deleted"
   ]
  },
  {
   "cell_type": "code",
   "execution_count": 3,
   "id": "cae08549-342b-4be2-afd2-6bab04969eee",
   "metadata": {},
   "outputs": [],
   "source": [
    "stats_path = '/Users/caseymoser/Desktop/UFC Analysis/UFC/ufc_fight_stats.csv'\n",
    "\n",
    "# data source: https://www.reddit.com/r/MMA/comments/evbnjd/released_offical_ufc_fight_night_weights/\n",
    "weight_path = '/Users/caseymoser/Desktop/UFC Analysis/UFC/UFC Fight Night Weights.xlsx'\n",
    "\n",
    "results_path = '/Users/caseymoser/Desktop/UFC Analysis/UFC/ufc_fight_results.csv'\n",
    "\n",
    "stats_df = pd.read_csv(stats_path)\n",
    "\n",
    "weight_df = pd.read_excel(weight_path)\n",
    "\n",
    "results_df = pd.read_csv(results_path)\n"
   ]
  },
  {
   "cell_type": "code",
   "execution_count": 4,
   "id": "5136b1dc-a0d3-40d4-806e-fb6ea652e825",
   "metadata": {},
   "outputs": [],
   "source": [
    "# Step 1: Split fighters into separate columns\n",
    "results_df[['Fighter_1', 'Fighter_2']] = results_df['BOUT'].str.split(' vs. ', expand=True)\n",
    "\n",
    "fighter1_df = results_df.copy()\n",
    "fighter1_df['FIGHTER'] = fighter1_df['Fighter_1']\n",
    "fighter1_df['RESULT'] = fighter1_df['OUTCOME'].str[0].map({'W': 'Win', 'L': 'Loss'})\n",
    "fighter1_df = fighter1_df.drop(columns=['Fighter_1','Fighter_2'])\n",
    "\n",
    "\n",
    "fighter2_df = results_df.copy()\n",
    "fighter2_df['FIGHTER'] = fighter2_df['Fighter_2']\n",
    "fighter2_df['RESULT'] = fighter2_df['OUTCOME'].str[2].map({'W': 'Win', 'L': 'Loss'})\n",
    "fighter2_df = fighter2_df.drop(columns=['Fighter_1','Fighter_2'])\n",
    "\n",
    "\n",
    "# Note to self, clean this code so that I first drop fighter_1 and fighter_2, then combine the data sets together/\n",
    "\n",
    "# Combine both into a single dataframe\n",
    "results_df_clean = pd.concat([fighter1_df, fighter2_df])\n",
    "\n",
    "results_df_clean['UFC_EVENT'] = results_df_clean['EVENT'].str.extract(r'(UFC \\d+)', expand=False)\n",
    "\n",
    "\n",
    "\n"
   ]
  },
  {
   "cell_type": "code",
   "execution_count": 10,
   "id": "3007012c-5819-49a6-a643-e7f0d959b9c4",
   "metadata": {},
   "outputs": [],
   "source": [
    "weight_df['UFC_EVENT'] = weight_df['EVENT'].str.extract(r'(UFC \\d+)', expand=False)\n",
    "weight_df\n",
    "\n",
    "weight_df['FIGHTER'] = weight_df['FIGHTER'].str.strip().str.lower()\n",
    "weight_df['UFC_EVENT'] = weight_df['UFC_EVENT'].str.strip().str.upper()\n",
    "\n",
    "results_df_clean['FIGHTER'] = results_df_clean['FIGHTER'].str.strip().str.lower()\n",
    "results_df_clean['UFC_EVENT'] = results_df_clean['UFC_EVENT'].str.strip().str.upper()\n",
    "\n",
    "merged_weight = pd.merge(\n",
    "    results_df_clean,\n",
    "    weight_df,\n",
    "    on=['FIGHTER', 'UFC_EVENT'],\n",
    "    how='left', \n",
    "    suffixes=('_result', '_weight')\n",
    ")\n",
    "results_df_clean\n",
    "\n",
    "# Drop rows with any NaN values\n",
    "merged_weight_clean = merged_weight.dropna(subset=['WEIGH IN WEIGHT (lbs)'])\n",
    "\n"
   ]
  },
  {
   "cell_type": "code",
   "execution_count": 6,
   "id": "a4b7b4ab-1cce-412f-9bb2-b5b212209392",
   "metadata": {},
   "outputs": [
    {
     "name": "stderr",
     "output_type": "stream",
     "text": [
      "/var/folders/rc/yw7v7vhj4l3_vjznh0cwm8wr0000gn/T/ipykernel_93985/41271526.py:5: SettingWithCopyWarning: \n",
      "A value is trying to be set on a copy of a slice from a DataFrame.\n",
      "Try using .loc[row_indexer,col_indexer] = value instead\n",
      "\n",
      "See the caveats in the documentation: https://pandas.pydata.org/pandas-docs/stable/user_guide/indexing.html#returning-a-view-versus-a-copy\n",
      "  win_weight_df['RESULT'] = win_weight_df['RESULT'].map({'Win': 1, 'Loss': 0})\n",
      "/var/folders/rc/yw7v7vhj4l3_vjznh0cwm8wr0000gn/T/ipykernel_93985/41271526.py:11: SettingWithCopyWarning: \n",
      "A value is trying to be set on a copy of a slice from a DataFrame.\n",
      "Try using .loc[row_indexer,col_indexer] = value instead\n",
      "\n",
      "See the caveats in the documentation: https://pandas.pydata.org/pandas-docs/stable/user_guide/indexing.html#returning-a-view-versus-a-copy\n",
      "  win_weight_df_clean['PERCENT_REGAIN'] =win_weight_df_clean['WEIGHT INCREASE (lbs)']/win_weight_df_clean['WEIGH IN WEIGHT (lbs)']*100\n"
     ]
    }
   ],
   "source": [
    "#df.groupby('FIGHTER')['SIG.STR. %'].mean()\n",
    "\n",
    "win_weight_df = merged_weight_clean\n",
    "\n",
    "win_weight_df['RESULT'] = win_weight_df['RESULT'].map({'Win': 1, 'Loss': 0})\n",
    "\n",
    "\n",
    "win_weight_df_clean = win_weight_df.dropna(subset=['RESULT', 'WEIGHT INCREASE (lbs)'])\n",
    "\n",
    "# calculating percent regain (heavyweights more likely to just have higher raw numbers because they have more fat than lower weight classes)\n",
    "win_weight_df_clean['PERCENT_REGAIN'] =win_weight_df_clean['WEIGHT INCREASE (lbs)']/win_weight_df_clean['WEIGH IN WEIGHT (lbs)']*100\n"
   ]
  },
  {
   "cell_type": "code",
   "execution_count": 7,
   "id": "4d59b0fc-c72e-4c16-9e0d-2c41e59e197e",
   "metadata": {},
   "outputs": [
    {
     "name": "stdout",
     "output_type": "stream",
     "text": [
      "                            OLS Regression Results                            \n",
      "==============================================================================\n",
      "Dep. Variable:                 RESULT   R-squared:                       0.007\n",
      "Model:                            OLS   Adj. R-squared:                  0.004\n",
      "Method:                 Least Squares   F-statistic:                     2.927\n",
      "Date:                Sat, 26 Jul 2025   Prob (F-statistic):             0.0878\n",
      "Time:                        11:52:38   Log-Likelihood:                -313.38\n",
      "No. Observations:                 437   AIC:                             630.8\n",
      "Df Residuals:                     435   BIC:                             638.9\n",
      "Df Model:                           1                                         \n",
      "Covariance Type:            nonrobust                                         \n",
      "==================================================================================\n",
      "                     coef    std err          t      P>|t|      [0.025      0.975]\n",
      "----------------------------------------------------------------------------------\n",
      "const              0.4428      0.068      6.528      0.000       0.309       0.576\n",
      "PERCENT_REGAIN     0.0106      0.006      1.711      0.088      -0.002       0.023\n",
      "==============================================================================\n",
      "Omnibus:                     1952.105   Durbin-Watson:                   2.126\n",
      "Prob(Omnibus):                  0.000   Jarque-Bera (JB):               70.938\n",
      "Skew:                          -0.206   Prob(JB):                     3.94e-16\n",
      "Kurtosis:                       1.070   Cond. No.                         31.4\n",
      "==============================================================================\n",
      "\n",
      "Notes:\n",
      "[1] Standard Errors assume that the covariance matrix of the errors is correctly specified.\n"
     ]
    }
   ],
   "source": [
    "#OLS Model\n",
    "\n",
    "X = win_weight_df_clean[['PERCENT_REGAIN']]\n",
    "\n",
    "\n",
    "y = win_weight_df_clean['RESULT']\n",
    "\n",
    "# Add a constant (intercept) to the independent variable\n",
    "X = sm.add_constant(X)\n",
    "\n",
    "# Fit the OLS model\n",
    "model = sm.OLS(y, X)\n",
    "results = model.fit()\n",
    "print(results.summary())\n",
    "\n",
    "\n"
   ]
  },
  {
   "cell_type": "markdown",
   "id": "159e21d1-e5b3-41d8-b28b-93a54ed5e37c",
   "metadata": {},
   "source": [
    "In this first OLS model, the coefficient on PERCENT_REGAIN is 0.0106, meaning for every 1 percent increase in weight, there is an associated 01.06 percentage point increase in the probability of winning the fight holding all other variables constant. This model is not statistically significant at alpha = 0.05, but it is significant at alpha =0.10.  This means that PERCENT_REGAIN has a statistically signficant impact on winning at a 90% condifidence interval."
   ]
  },
  {
   "cell_type": "code",
   "execution_count": 18,
   "id": "675fc7c6-c7e1-4d91-8e58-6d768fbc9ec8",
   "metadata": {},
   "outputs": [
    {
     "name": "stdout",
     "output_type": "stream",
     "text": [
      "                            OLS Regression Results                            \n",
      "==============================================================================\n",
      "Dep. Variable:                 RESULT   R-squared:                       0.037\n",
      "Model:                            OLS   Adj. R-squared:                 -0.014\n",
      "Method:                 Least Squares   F-statistic:                    0.7244\n",
      "Date:                Sat, 26 Jul 2025   Prob (F-statistic):              0.815\n",
      "Time:                        12:00:14   Log-Likelihood:                -306.59\n",
      "No. Observations:                 437   AIC:                             659.2\n",
      "Df Residuals:                     414   BIC:                             753.0\n",
      "Df Model:                          22                                         \n",
      "Covariance Type:            nonrobust                                         \n",
      "====================================================================================================================\n",
      "                                                       coef    std err          t      P>|t|      [0.025      0.975]\n",
      "--------------------------------------------------------------------------------------------------------------------\n",
      "const                                                0.8625      0.570      1.513      0.131      -0.258       1.983\n",
      "PERCENT_REGAIN                                       0.0163      0.008      1.982      0.048       0.000       0.032\n",
      "WEIGHTCLASS_Catch Weight Bout                        0.0379      0.260      0.145      0.884      -0.474       0.550\n",
      "WEIGHTCLASS_Featherweight Bout                       0.0672      0.084      0.800      0.424      -0.098       0.232\n",
      "WEIGHTCLASS_Flyweight Bout                          -0.1114      0.137     -0.813      0.417      -0.381       0.158\n",
      "WEIGHTCLASS_Heavyweight Bout                         0.2945      0.165      1.780      0.076      -0.031       0.620\n",
      "WEIGHTCLASS_Light Heavyweight Bout                   0.0395      0.115      0.344      0.731      -0.186       0.265\n",
      "WEIGHTCLASS_Lightweight Bout                         0.0106      0.141      0.075      0.940      -0.267       0.289\n",
      "WEIGHTCLASS_Middleweight Bout                        0.0723      0.089      0.814      0.416      -0.102       0.247\n",
      "WEIGHTCLASS_UFC Bantamweight Title Bout              0.0800      0.233      0.343      0.732      -0.378       0.538\n",
      "WEIGHTCLASS_UFC Featherweight Title Bout             0.4210      0.506      0.832      0.406      -0.574       1.416\n",
      "WEIGHTCLASS_UFC Flyweight Title Bout                -0.0356      0.259     -0.138      0.891      -0.544       0.473\n",
      "WEIGHTCLASS_UFC Heavyweight Title Bout               0.1525      0.273      0.558      0.577      -0.385       0.690\n",
      "WEIGHTCLASS_UFC Light Heavyweight Title Bout         0.0434      0.362      0.120      0.905      -0.668       0.754\n",
      "WEIGHTCLASS_UFC Lightweight Title Bout               0.4291      0.506      0.848      0.397      -0.565       1.424\n",
      "WEIGHTCLASS_UFC Women's Featherweight Title Bout     0.0138      0.755      0.018      0.985      -1.470       1.498\n",
      "WEIGHTCLASS_UFC Women's Flyweight Title Bout        -0.0755      0.755     -0.100      0.920      -1.560       1.409\n",
      "WEIGHTCLASS_Welterweight Bout                       -0.0543      0.120     -0.454      0.650      -0.289       0.181\n",
      "WEIGHTCLASS_Women's Bantamweight Bout               -0.4031      0.577     -0.698      0.485      -1.538       0.732\n",
      "WEIGHTCLASS_Women's Featherweight Bout              -0.7120      0.634     -1.123      0.262      -1.959       0.535\n",
      "WEIGHTCLASS_Women's Flyweight Bout                  -0.4224      0.574     -0.736      0.462      -1.551       0.706\n",
      "WEIGHTCLASS_Women's Strawweight Bout                -0.4021      0.569     -0.706      0.480      -1.521       0.717\n",
      "SEX_M                                               -0.5396      0.561     -0.962      0.337      -1.642       0.563\n",
      "==============================================================================\n",
      "Omnibus:                     2091.864   Durbin-Watson:                   2.112\n",
      "Prob(Omnibus):                  0.000   Jarque-Bera (JB):               64.198\n",
      "Skew:                          -0.175   Prob(JB):                     1.15e-14\n",
      "Kurtosis:                       1.155   Cond. No.                         743.\n",
      "==============================================================================\n",
      "\n",
      "Notes:\n",
      "[1] Standard Errors assume that the covariance matrix of the errors is correctly specified.\n"
     ]
    }
   ],
   "source": [
    "# OLS with dummies for weight class and sex\n",
    "\n",
    "dummies = pd.get_dummies(win_weight_df_clean[['WEIGHTCLASS', 'SEX']], drop_first=True).astype(int)\n",
    "X = pd.concat([win_weight_df_clean[['PERCENT_REGAIN']], dummies], axis=1).dropna()\n",
    "\n",
    "y = win_weight_df_clean['RESULT']\n",
    "\n",
    "# Add a constant (intercept) to the independent variable\n",
    "X = sm.add_constant(X)\n",
    "\n",
    "# Fit the OLS model\n",
    "model = sm.OLS(y, X)\n",
    "results = model.fit()\n",
    "print(results.summary())\n",
    "\n"
   ]
  },
  {
   "cell_type": "markdown",
   "id": "8625f090-25e7-4d70-8aee-041fdb02ecc2",
   "metadata": {},
   "source": [
    "In this second OLS model, the coefficient on PERCENT_REGAIN is 0.0163, meaning for every 1 percent increase in weight, there is an associated 1.63 percentage point increase in the probability of winning the fight holding all other variables constant. This model is  statistically significant at a 95% condifidence interval. This means that PERCENT_REGAIN we can reject the null hypothesis and accept the alterative hypothesis that weight regain has a statsitically significant effect on winning fights.\n",
    "\n",
    "Unfortunately, the dummy OLS model has a much higher AIC than the non-dummy OLS model. The difference is 28.4 between the first and second model, meaning the first model is preffered for parsimony."
   ]
  },
  {
   "cell_type": "code",
   "execution_count": 24,
   "id": "8eef28b7-2368-4e43-bc7f-ef12769314a0",
   "metadata": {},
   "outputs": [
    {
     "name": "stdout",
     "output_type": "stream",
     "text": [
      "                            OLS Regression Results                            \n",
      "==============================================================================\n",
      "Dep. Variable:                 RESULT   R-squared:                       0.008\n",
      "Model:                            OLS   Adj. R-squared:                  0.003\n",
      "Method:                 Least Squares   F-statistic:                     1.705\n",
      "Date:                Sat, 26 Jul 2025   Prob (F-statistic):              0.183\n",
      "Time:                        12:09:54   Log-Likelihood:                -313.13\n",
      "No. Observations:                 437   AIC:                             632.3\n",
      "Df Residuals:                     434   BIC:                             644.5\n",
      "Df Model:                           2                                         \n",
      "Covariance Type:            nonrobust                                         \n",
      "=====================================================================================\n",
      "                        coef    std err          t      P>|t|      [0.025      0.975]\n",
      "-------------------------------------------------------------------------------------\n",
      "const                 0.3660      0.129      2.831      0.005       0.112       0.620\n",
      "PERCENT_REGAIN        0.0288      0.027      1.076      0.283      -0.024       0.081\n",
      "PERCENT_REGAIN_SQ    -0.0009      0.001     -0.698      0.486      -0.003       0.002\n",
      "==============================================================================\n",
      "Omnibus:                     1958.319   Durbin-Watson:                   2.123\n",
      "Prob(Omnibus):                  0.000   Jarque-Bera (JB):               70.613\n",
      "Skew:                          -0.205   Prob(JB):                     4.64e-16\n",
      "Kurtosis:                       1.074   Cond. No.                         790.\n",
      "==============================================================================\n",
      "\n",
      "Notes:\n",
      "[1] Standard Errors assume that the covariance matrix of the errors is correctly specified.\n"
     ]
    },
    {
     "name": "stderr",
     "output_type": "stream",
     "text": [
      "/var/folders/rc/yw7v7vhj4l3_vjznh0cwm8wr0000gn/T/ipykernel_93985/3821135014.py:2: SettingWithCopyWarning: \n",
      "A value is trying to be set on a copy of a slice from a DataFrame.\n",
      "Try using .loc[row_indexer,col_indexer] = value instead\n",
      "\n",
      "See the caveats in the documentation: https://pandas.pydata.org/pandas-docs/stable/user_guide/indexing.html#returning-a-view-versus-a-copy\n",
      "  win_weight_df_clean['PERCENT_REGAIN_SQ'] = win_weight_df_clean['PERCENT_REGAIN'] ** 2\n"
     ]
    }
   ],
   "source": [
    "# Model with squared term\n",
    "win_weight_df_clean['PERCENT_REGAIN_SQ'] = win_weight_df_clean['PERCENT_REGAIN'] ** 2\n",
    "\n",
    "X = win_weight_df_clean[['PERCENT_REGAIN', 'PERCENT_REGAIN_SQ']]\n",
    "X = sm.add_constant(X)\n",
    "y = win_weight_df_clean['RESULT']\n",
    "\n",
    "model = sm.OLS(y, X)\n",
    "results = model.fit()\n",
    "print(results.summary())\n"
   ]
  },
  {
   "cell_type": "markdown",
   "id": "70b0f565-bb64-411a-b9df-f465c6b7c04f",
   "metadata": {},
   "source": [
    "In this third OLS model, the coefficients on PERCENT_REGAIN and PERCENT_REGAIN_SQ are both statsitically insignfnicant at a 95% confidence interval, implying that we fail to reject the null hypothesis that regaining weight has a downside at higher levels (in other words, the square term is used to see if there is a fall off in the benefit of regaining weight at higher percentage regains due to dehydration issues)."
   ]
  },
  {
   "cell_type": "code",
   "execution_count": null,
   "id": "28a6a263-8eff-4b07-a3fa-b7d0342ebb8d",
   "metadata": {},
   "outputs": [],
   "source": [
    "# Log odds of winning based on how much weight you cut"
   ]
  }
 ],
 "metadata": {
  "kernelspec": {
   "display_name": "Python 3 (ipykernel)",
   "language": "python",
   "name": "python3"
  },
  "language_info": {
   "codemirror_mode": {
    "name": "ipython",
    "version": 3
   },
   "file_extension": ".py",
   "mimetype": "text/x-python",
   "name": "python",
   "nbconvert_exporter": "python",
   "pygments_lexer": "ipython3",
   "version": "3.10.18"
  }
 },
 "nbformat": 4,
 "nbformat_minor": 5
}
