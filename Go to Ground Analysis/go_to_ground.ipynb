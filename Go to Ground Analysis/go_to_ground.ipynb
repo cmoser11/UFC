{
 "cells": [
  {
   "cell_type": "code",
   "execution_count": 1,
   "id": "3a79b08d-c13d-4024-a088-f27624efb213",
   "metadata": {},
   "outputs": [],
   "source": [
    "import pandas as pd\n",
    "import matplotlib.pyplot as plt\n",
    "import seaborn as sns\n",
    "import openpyxl\n",
    "import statsmodels.api as sm\n",
    "from sklearn.model_selection import train_test_split\n",
    "from sklearn.ensemble import RandomForestRegressor\n",
    "from sklearn.metrics import mean_squared_error, r2_score\n",
    "from sklearn.linear_model import LogisticRegression\n",
    "\n",
    "import pandoc\n",
    "\n",
    "from sklearn.ensemble import RandomForestClassifier\n",
    "\n",
    "from sklearn.metrics import accuracy_score, roc_auc_score, confusion_matrix\n",
    "\n",
    "import math\n",
    "\n",
    "import statsmodels.formula.api as smf\n",
    "\n",
    "from sklearn.metrics import roc_curve, roc_auc_score\n",
    "from scipy.stats import chi2\n",
    "from statsmodels.stats.diagnostic import linear_harvey_collier\n",
    "from statsmodels.stats.outliers_influence import variance_inflation_factor\n",
    "from statsmodels.stats.proportion import proportions_chisquare\n",
    "from statsmodels.stats.api import het_breuschpagan\n",
    "\n",
    "import statsmodels.api as sm\n",
    "from statsmodels.stats.diagnostic import acorr_ljungbox\n",
    "from statsmodels.stats.outliers_influence import summary_table\n",
    "from statsmodels.stats.diagnostic import linear_reset\n",
    "\n",
    "from statsmodels.stats.diagnostic import lilliefors\n",
    "from statsmodels.stats.diagnostic import het_white\n",
    "\n",
    "from sklearn.metrics import roc_auc_score, roc_curve\n",
    "from statsmodels.stats.diagnostic import het_breuschpagan\n",
    "\n",
    "from statsmodels.stats.proportion import proportions_chisquare\n",
    "from statsmodels.stats.api import het_white\n",
    "\n",
    "from statsmodels.stats.diagnostic import linear_harvey_collier\n",
    "\n",
    "\n",
    "from statsmodels.stats.diagnostic import het_breuschpagan\n",
    "from statsmodels.stats.api import het_white\n",
    "\n",
    "from statsmodels.stats.diagnostic import het_white\n",
    "import os\n"
   ]
  },
  {
   "cell_type": "code",
   "execution_count": 2,
   "id": "4a775d5b-4a78-4832-b111-fefceeb9cc26",
   "metadata": {},
   "outputs": [],
   "source": [
    "stats_path = '/Users/caseymoser/Desktop/UFC Analysis/UFC/Go to Ground Analysis/ufc_fight_stats.csv'\n",
    "\n",
    "results_path = '/Users/caseymoser/Desktop/UFC Analysis/UFC/Go to Ground Analysis/ufc_fight_results.csv'\n",
    "\n",
    "stats_df = pd.read_csv(stats_path)\n",
    "\n",
    "results_df = pd.read_csv(results_path)\n"
   ]
  },
  {
   "cell_type": "code",
   "execution_count": 33,
   "id": "6a32f3f5-d490-4e1d-a716-7b1b52efb961",
   "metadata": {},
   "outputs": [
    {
     "data": {
      "text/plain": [
       "array(['Tatsuro Taira', 'HyunSung Park', 'Mateusz Rebecki', ...,\n",
       "       'David Levicki', 'Ray Wizard', 'Sean Daugherty'], dtype=object)"
      ]
     },
     "execution_count": 33,
     "metadata": {},
     "output_type": "execute_result"
    }
   ],
   "source": [
    "# Hypothesis is that strikers with more of a grappling base (e.g. bjj blackbelt or wrestling) have a greater finish rate because they are more likely to go to the ground\n",
    "\n",
    "\n",
    "\n"
   ]
  },
  {
   "cell_type": "code",
   "execution_count": null,
   "id": "9399d29e-c06f-4a5a-9b57-4d33c19f038b",
   "metadata": {},
   "outputs": [
    {
     "name": "stdout",
     "output_type": "stream",
     "text": [
      "Processing: Tatsuro Taira (cleaned: Tatsuro Taira)\n",
      "Processing: HyunSung Park (cleaned: HyunSung Park)\n",
      "Processing: Mateusz Rebecki (cleaned: Mateusz Rebecki)\n",
      "No Wikipedia page found for Mateusz Rebecki\n",
      "Processing: Chris Duncan (cleaned: Chris Duncan)\n",
      "Processing: Elves Brener (cleaned: Elves Brener)\n"
     ]
    }
   ],
   "source": [
    "import requests\n",
    "from bs4 import BeautifulSoup\n",
    "import pandas as pd\n",
    "import re\n",
    "import time\n",
    "from rapidfuzz import fuzz\n",
    "fighter_names =  stats_df['FIGHTER'].unique()[1:5]\n",
    "import requests\n",
    "from bs4 import BeautifulSoup\n",
    "import pandas as pd\n",
    "import re\n",
    "import time\n",
    "from rapidfuzz import fuzz\n",
    "\n",
    "# Your extract_belt_rank_from_sentences() and get_wrestling_bjj_info() here\n",
    "# (Paste the full code you provided)\n",
    "\n",
    "def clean_fighter_name(name):\n",
    "    # Strip nicknames, parentheses etc to improve Wikipedia search\n",
    "    name = re.sub(r'[\"\\'].*?[\"\\']', '', name)\n",
    "    name = re.sub(r'\\(.*?\\)', '', name)\n",
    "    return name.strip()\n",
    "\n",
    "def search_wikipedia_page(fighter_name):\n",
    "    base_url = \"https://en.wikipedia.org/w/api.php\"\n",
    "    queries = [\n",
    "        fighter_name,\n",
    "        f\"{fighter_name} UFC\",\n",
    "        f\"{fighter_name} MMA\"\n",
    "    ]\n",
    "    best_url = None\n",
    "    best_score = 0\n",
    "\n",
    "    for query in queries:\n",
    "        params = {\n",
    "            'action': 'query',\n",
    "            'list': 'search',\n",
    "            'srsearch': query,\n",
    "            'format': 'json'\n",
    "        }\n",
    "        try:\n",
    "            r = requests.get(base_url, params=params, timeout=10)\n",
    "            data = r.json()\n",
    "            pages = data.get('query', {}).get('search', [])\n",
    "            for page in pages[:5]:\n",
    "                title = page['title']\n",
    "                score = fuzz.token_sort_ratio(fighter_name.lower(), title.lower())\n",
    "                if score > best_score and score > 60:\n",
    "                    best_score = score\n",
    "                    best_url = f\"https://en.wikipedia.org/wiki/{title.replace(' ', '_')}\"\n",
    "        except Exception as e:\n",
    "            print(f\"Error searching Wikipedia for {fighter_name}: {e}\")\n",
    "            continue\n",
    "        if best_url:\n",
    "            break\n",
    "    return best_url\n",
    "\n",
    "def scrape_fighters_background(fighter_names, limit=None):\n",
    "    results = []\n",
    "    missing = []\n",
    "    count = 0\n",
    "    for raw_name in fighter_names:\n",
    "        name = clean_fighter_name(raw_name)\n",
    "        print(f\"Processing: {raw_name} (cleaned: {name})\")\n",
    "        wiki_url = search_wikipedia_page(name)\n",
    "        if wiki_url:\n",
    "            info = get_wrestling_bjj_info(name, wiki_url)\n",
    "            if info:\n",
    "                results.append(info)\n",
    "            else:\n",
    "                missing.append(raw_name)\n",
    "        else:\n",
    "            print(f\"No Wikipedia page found for {raw_name}\")\n",
    "            missing.append(raw_name)\n",
    "\n",
    "        count += 1\n",
    "        time.sleep(1)  # polite delay\n",
    "\n",
    "        if limit and count >= limit:\n",
    "            break\n",
    "\n",
    "    df = pd.DataFrame(results)\n",
    "    return df, missing\n",
    "\n",
    "# Example usage:\n",
    "\n",
    "# Suppose your stats_df already loaded with a 'FIGHTER' column\n",
    "fighter_names = stats_df['FIGHTER'].unique()\n",
    "\n",
    "df_results, missing_fighters = scrape_fighters_background(fighter_names)\n",
    "\n",
    "print(f\"Scraped {len(df_results)} fighters.\")\n",
    "print(f\"Missing or failed for {len(missing_fighters)} fighters: {missing_fighters}\")\n",
    "\n",
    "df_results.to_csv(\"ufc_fighters_bjj_wrestling_info.csv\", index=False)\n",
    "print(\"Saved results to ufc_fighters_bjj_wrestling_info.csv\")\n"
   ]
  },
  {
   "cell_type": "code",
   "execution_count": 8,
   "id": "adcfa6af-7a27-497d-8f23-e946e82460e1",
   "metadata": {},
   "outputs": [
    {
     "name": "stdout",
     "output_type": "stream",
     "text": [
      "Saving CSV to: /Users/caseymoser/Desktop/UFC Analysis/UFC/Go to Ground Analysis\n"
     ]
    }
   ],
   "source": [
    "\n"
   ]
  },
  {
   "cell_type": "code",
   "execution_count": null,
   "id": "d3a38792-8ef6-40d9-9862-1932df2edc3e",
   "metadata": {},
   "outputs": [],
   "source": []
  }
 ],
 "metadata": {
  "kernelspec": {
   "display_name": "Python 3 (ipykernel)",
   "language": "python",
   "name": "python3"
  },
  "language_info": {
   "codemirror_mode": {
    "name": "ipython",
    "version": 3
   },
   "file_extension": ".py",
   "mimetype": "text/x-python",
   "name": "python",
   "nbconvert_exporter": "python",
   "pygments_lexer": "ipython3",
   "version": "3.10.18"
  }
 },
 "nbformat": 4,
 "nbformat_minor": 5
}
